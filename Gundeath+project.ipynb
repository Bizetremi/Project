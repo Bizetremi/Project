{
 "cells": [
  {
   "cell_type": "code",
   "execution_count": 12,
   "metadata": {
    "collapsed": true
   },
   "outputs": [
    {
     "name": "stdout",
     "output_type": "stream",
     "text": [
      "[['', 'year', 'month', 'intent', 'police', 'sex', 'age', 'race', 'hispanic', 'place', 'education'], ['1', '2012', '01', 'Suicide', '0', 'M', '34', 'Asian/Pacific Islander', '100', 'Home', 'BA+'], ['2', '2012', '01', 'Suicide', '0', 'F', '21', 'White', '100', 'Street', 'Some college'], ['3', '2012', '01', 'Suicide', '0', 'M', '60', 'White', '100', 'Other specified', 'BA+'], ['4', '2012', '02', 'Suicide', '0', 'M', '64', 'White', '100', 'Home', 'BA+']]\n"
     ]
    }
   ],
   "source": [
    "import csv #Read and write Csv files\n",
    "import os #Operating system module\n",
    "import pandas as pd #Data analysis library tools\n",
    "import numpy as np #Scientific computing module\n",
    "import matplotlib.pyplot as plt #Plot data visualisation\n",
    "%matplotlib inline\n",
    "os.chdir(\"C:\\\\Users\\\\bizet\\\\Desktop\\\\Data Science Club\")\n",
    "Df = list(csv.reader(open(\"full_data.csv\",\"r\")))\n",
    "print(Df[0:5])"
   ]
  },
  {
   "cell_type": "markdown",
   "metadata": {},
   "source": [
    "# Removing the Headers"
   ]
  },
  {
   "cell_type": "code",
   "execution_count": 13,
   "metadata": {},
   "outputs": [
    {
     "name": "stdout",
     "output_type": "stream",
     "text": [
      "[['1', '2012', '01', 'Suicide', '0', 'M', '34', 'Asian/Pacific Islander', '100', 'Home', 'BA+'], ['2', '2012', '01', 'Suicide', '0', 'F', '21', 'White', '100', 'Street', 'Some college'], ['3', '2012', '01', 'Suicide', '0', 'M', '60', 'White', '100', 'Other specified', 'BA+'], ['4', '2012', '02', 'Suicide', '0', 'M', '64', 'White', '100', 'Home', 'BA+'], ['5', '2012', '02', 'Suicide', '0', 'M', '31', 'White', '100', 'Other specified', 'HS/GED']]\n",
      "100798\n"
     ]
    }
   ],
   "source": [
    "Headers = Df[0]\n",
    "Data = Df[1:]\n",
    "print(Data[0:5])\n",
    "print(len(Data))"
   ]
  },
  {
   "cell_type": "markdown",
   "metadata": {},
   "source": [
    "# Exploring Gundeath by year from 2012 to 2014..."
   ]
  },
  {
   "cell_type": "code",
   "execution_count": 22,
   "metadata": {},
   "outputs": [
    {
     "name": "stdout",
     "output_type": "stream",
     "text": [
      "{'2012': 33563, '2013': 33636, '2014': 33599}\n"
     ]
    },
    {
     "data": {
      "image/png": "[encoded data removed]",
      "text/plain": [
       "<matplotlib.figure.Figure at 0x1e79dbac198>"
      ]
     },
     "metadata": {},
     "output_type": "display_data"
    }
   ],
   "source": [
    "Years = [] #Creating an empty list\n",
    "\n",
    "for row in Data: \n",
    "    Years.append(row[1])\n",
    "    \n",
    "year_counts = {} #Creating an empty dictionary\n",
    "\n",
    "for row in Years:\n",
    "    if row not in year_counts:\n",
    "        year_counts[row] = 1\n",
    "    else:\n",
    "        year_counts[row] = year_counts[row] + 1\n",
    "print(year_counts)\n",
    "\n",
    "X = np.arange(len(year_counts))\n",
    "plt.bar(X, year_counts.values(), align='center', width=0.5, color=\"DarkGreen\" )\n",
    "plt.xticks(X, year_counts.keys())\n",
    "ymax = max(year_counts.values()) + 1000\n",
    "plt.title('Gundeath by year')\n",
    "plt.ylim(0, ymax)\n",
    "plt.show()"
   ]
  },
  {
   "cell_type": "markdown",
   "metadata": {},
   "source": [
    "# Exploring Overall Gundeath By Gender and Race...\n"
   ]
  },
  {
   "cell_type": "code",
   "execution_count": 15,
   "metadata": {
    "scrolled": false
   },
   "outputs": [
    {
     "name": "stdout",
     "output_type": "stream",
     "text": [
      "{'M': 86349, 'F': 14449}\n",
      "85.66539018631322\n",
      "{'Asian/Pacific Islander': 1326, 'White': 66237, 'Native American/Native Alaskan': 917, 'Black': 23296, 'Hispanic': 9022}\n"
     ]
    },
    {
     "data": {
      "image/png": "[encoded data removed]",
      "text/plain": [
       "<matplotlib.figure.Figure at 0x1e79cae8978>"
      ]
     },
     "metadata": {},
     "output_type": "display_data"
    },
    {
     "data": {
      "image/png": "[encoded data removed]",
      "text/plain": [
       "<matplotlib.figure.Figure at 0x1e79caffcc0>"
      ]
     },
     "metadata": {},
     "output_type": "display_data"
    }
   ],
   "source": [
    "Gender_count = {}\n",
    "for i in Data:\n",
    "    if i[5] not in Gender_count:\n",
    "        Gender_count[i[5]] = 1\n",
    "    else:\n",
    "        Gender_count[i[5]] += 1\n",
    "Race_count = {}\n",
    "for i in Data:\n",
    "    if i[7] not in Race_count:\n",
    "        Race_count[i[7]] = 1\n",
    "    else:\n",
    "        Race_count[i[7]] += 1\n",
    "print(Gender_count)\n",
    "print((86349/100798)*100)\n",
    "print(Race_count)\n",
    "\n",
    "\n",
    "X = np.arange(len(Gender_count))\n",
    "plt.bar(X, Gender_count.values(), align='center', width=0.5, color=\"DarkGreen\")\n",
    "plt.xticks(X, Gender_count.keys())\n",
    "ymax = max(Gender_count.values()) + 10000\n",
    "plt.title('Gundeath by Gender')\n",
    "plt.ylim(0, ymax)\n",
    "plt.show()\n",
    "\n",
    "X = np.arange(len(Race_count))\n",
    "plt.bar(X, Race_count.values(), align='center', width=0.5, color=\"DarkGreen\")\n",
    "plt.xticks(X, Race_count.keys())\n",
    "ymax = max(Race_count.values()) + 1000\n",
    "plt.xticks(rotation=90)\n",
    "plt.title('Gundeath by Race')\n",
    "plt.ylim(0, ymax)\n",
    "plt.show()"
   ]
  },
  {
   "cell_type": "markdown",
   "metadata": {},
   "source": [
    "# Correlating with US Total Population..."
   ]
  },
  {
   "cell_type": "code",
   "execution_count": 16,
   "metadata": {},
   "outputs": [
    {
     "data": {
      "text/plain": [
       "0.0003356849303419181"
      ]
     },
     "execution_count": 16,
     "metadata": {},
     "output_type": "execute_result"
    }
   ],
   "source": [
    "Census = list(csv.reader(open(\"Census.csv\",\"r\")))\n",
    "#Mergin Data\n",
    "\n",
    "TotalPopulation = 308745538\n",
    "\n",
    "percentage_per_year = {}\n",
    "for i,v in year_counts.items():\n",
    "    percentage_per_year[i] = (v/TotalPopulation)*100\n",
    "#print(percentage_per_year)\n",
    "\n",
    "mapping = {\n",
    "    'Asian/Pacific Islander': 15834141,\n",
    "    'Black': 40250635,\n",
    "    'Hispanic': 44618105,\n",
    "    'Native American/Native Alaskan': 3739506,\n",
    "    'White': 197318956}\n",
    "\n",
    "white_gun_death_rate = 66237 / 197318956\n",
    "white_gun_death_rate"
   ]
  },
  {
   "cell_type": "markdown",
   "metadata": {},
   "source": [
    "Result very small number, we are going to express it with the \"rate per 100K\" \n",
    "tells the number of people in a given group out of every 100K."
   ]
  },
  {
   "cell_type": "code",
   "execution_count": 17,
   "metadata": {},
   "outputs": [
    {
     "name": "stdout",
     "output_type": "stream",
     "text": [
      "{'Asian/Pacific Islander': 8.374309664161762, 'White': 33.56849303419181, 'Native American/Native Alaskan': 24.521955573811088, 'Black': 57.8773477735196, 'Hispanic': 20.220491210910907}\n"
     ]
    },
    {
     "data": {
      "image/png": "[encoded data removed]",
      "text/plain": [
       "<matplotlib.figure.Figure at 0x1e79cafd3c8>"
      ]
     },
     "metadata": {},
     "output_type": "display_data"
    }
   ],
   "source": [
    "race_per_hundredk = {}\n",
    "for k,v in Race_count.items():\n",
    "    race_per_hundredk[k] = (v / mapping[k]) * 100000\n",
    "print(race_per_hundredk)\n",
    "\n",
    "X = np.arange(len(race_per_hundredk))\n",
    "plt.bar(X, race_per_hundredk.values(), align='center', width=0.5, color=\"DarkGreen\")\n",
    "plt.xticks(X, race_per_hundredk.keys())\n",
    "ymax = max(race_per_hundredk.values()) + 1\n",
    "plt.xticks(rotation=90)\n",
    "plt.title('Gundeath by Race for 100k')\n",
    "plt.ylim(0, ymax)\n",
    "plt.show()"
   ]
  },
  {
   "cell_type": "markdown",
   "metadata": {},
   "source": [
    "# Filtering by Intent\n"
   ]
  },
  {
   "cell_type": "code",
   "execution_count": 18,
   "metadata": {},
   "outputs": [
    {
     "name": "stdout",
     "output_type": "stream",
     "text": [
      "{'Asian/Pacific Islander': 3.530346230970155, 'White': 4.6356417981453335, 'Native American/Native Alaskan': 8.717729026240365, 'Black': 48.471284987180944, 'Hispanic': 12.627161104219914}\n"
     ]
    },
    {
     "data": {
      "image/png": "[encoded data removed]",
      "text/plain": [
       "<matplotlib.figure.Figure at 0x1e79cab86a0>"
      ]
     },
     "metadata": {},
     "output_type": "display_data"
    }
   ],
   "source": [
    "intents = []\n",
    "for i in Data:\n",
    "    intents.append(i[3]) #Isolating Intente\n",
    "races = []\n",
    "for i in Data:\n",
    "    races.append(i[7]) #Isolating Race\n",
    "\n",
    "homicide_race_counts = {}\n",
    "for i,race in enumerate(races): #loop through each item in race and intents at the same time\n",
    "    if race not in homicide_race_counts:\n",
    "        homicide_race_counts[race] = 0\n",
    "    if intents[i] == \"Homicide\":\n",
    "        homicide_race_counts[race] += 1\n",
    "\n",
    "raceHomicide_per_hundredk = {}\n",
    "for k,v in homicide_race_counts.items():\n",
    "    raceHomicide_per_hundredk[k] = (v / mapping[k]) * 100000\n",
    "\n",
    "print(raceHomicide_per_hundredk)\n",
    "\n",
    "X = np.arange(len(raceHomicide_per_hundredk))\n",
    "plt.bar(X, raceHomicide_per_hundredk.values(), align='center', width=0.5, color=\"DarkGreen\")\n",
    "plt.xticks(X, raceHomicide_per_hundredk.keys())\n",
    "ymax = max(raceHomicide_per_hundredk.values()) + 1\n",
    "plt.title('Gundeath Homicide intent by Race for 100k')\n",
    "plt.xticks(rotation=90)\n",
    "plt.ylim(0, ymax)\n",
    "plt.show()"
   ]
  },
  {
   "cell_type": "markdown",
   "metadata": {
    "collapsed": true
   },
   "source": [
    " # To go Further...\n",
    " \n",
    " From our data...\n",
    " - Exploring By Month and Year\n",
    " (Seasonality)\n",
    " - correlation with the level of education\n",
    " - correlation with the location\n",
    " - Police officer involment\n",
    " "
   ]
  },
  {
   "cell_type": "code",
   "execution_count": 19,
   "metadata": {},
   "outputs": [
    {
     "data": {
      "text/plain": [
       "[datetime.datetime(2012, 1, 1, 0, 0),\n",
       " datetime.datetime(2012, 1, 1, 0, 0),\n",
       " datetime.datetime(2012, 1, 1, 0, 0),\n",
       " datetime.datetime(2012, 2, 1, 0, 0),\n",
       " datetime.datetime(2012, 2, 1, 0, 0)]"
      ]
     },
     "execution_count": 19,
     "metadata": {},
     "output_type": "execute_result"
    }
   ],
   "source": [
    "import datetime\n",
    "\n",
    "dates = [datetime.datetime(year=int(row[1]), month=int(row[2]), day=1) for row in Data]\n",
    "dates[:5]"
   ]
  },
  {
   "cell_type": "code",
   "execution_count": 20,
   "metadata": {},
   "outputs": [
    {
     "data": {
      "image/png": "[encoded data removed]",
      "text/plain": [
       "<matplotlib.figure.Figure at 0x1e79cb0be10>"
      ]
     },
     "metadata": {},
     "output_type": "display_data"
    }
   ],
   "source": [
    "date_counts = {}\n",
    "\n",
    "for date in dates:\n",
    "    if date not in date_counts:\n",
    "        date_counts[date] = 0\n",
    "    date_counts[date] += 1\n",
    "\n",
    "X = np.arange(len(date_counts))\n",
    "plt.bar(X, date_counts.values(), align='center', width=0.5, color=\"DarkGreen\" )\n",
    "plt.xticks(X, date_counts.keys())\n",
    "ymax = max(date_counts.values()) + 1000\n",
    "plt.title('Gundeath by month and year')\n",
    "plt.ylim(0, ymax)\n",
    "plt.xticks(rotation=90)\n",
    "plt.show()"
   ]
  },
  {
   "cell_type": "markdown",
   "metadata": {},
   "source": [
    "observe a drop below 2500 death around April."
   ]
  },
  {
   "cell_type": "markdown",
   "metadata": {},
   "source": [
    "# Homicide by Gender"
   ]
  },
  {
   "cell_type": "code",
   "execution_count": 21,
   "metadata": {},
   "outputs": [
    {
     "name": "stdout",
     "output_type": "stream",
     "text": [
      "{'M': 29803, 'F': 5373}\n",
      "{'M': 54486, 'F': 8689}\n",
      "15.274619058448943\n",
      "13.753858330035614\n"
     ]
    }
   ],
   "source": [
    "genders = []\n",
    "for i in Data:\n",
    "    genders.append(i[5])\n",
    "    \n",
    "homicide_gender_counts = {}\n",
    "for i,gender in enumerate(genders):\n",
    "    if gender not in homicide_gender_counts:\n",
    "        homicide_gender_counts[gender] = 0\n",
    "    if intents[i] == \"Homicide\":\n",
    "        homicide_gender_counts[gender] += 1\n",
    "\n",
    "print(homicide_gender_counts)\n",
    "\n",
    "suicide_gender_counts = {}\n",
    "for i,gender in enumerate(genders):\n",
    "    if gender not in suicide_gender_counts:\n",
    "        suicide_gender_counts[gender] = 0\n",
    "    if intents[i] == \"Suicide\":\n",
    "        suicide_gender_counts[gender] += 1\n",
    "\n",
    "print(suicide_gender_counts)\n",
    "\n",
    "Homicide_gender_percentage = (5373/(29803+5373))*100\n",
    "Suicide_gender_percentage = (8689/(54486+8689))*100\n",
    "\n",
    "print(Homicide_gender_percentage)\n",
    "print(Suicide_gender_percentage)"
   ]
  },
  {
   "cell_type": "code",
   "execution_count": null,
   "metadata": {
    "collapsed": true
   },
   "outputs": [],
   "source": []
  },
  {
   "cell_type": "code",
   "execution_count": null,
   "metadata": {
    "collapsed": true
   },
   "outputs": [],
   "source": []
  },
  {
   "cell_type": "code",
   "execution_count": null,
   "metadata": {
    "collapsed": true
   },
   "outputs": [],
   "source": []
  }
 ],
 "metadata": {
  "kernelspec": {
   "display_name": "Python 3",
   "language": "python",
   "name": "python3"
  },
  "language_info": {
   "codemirror_mode": {
    "name": "ipython",
    "version": 3
   },
   "file_extension": ".py",
   "mimetype": "text/x-python",
   "name": "python",
   "nbconvert_exporter": "python",
   "pygments_lexer": "ipython3",
   "version": "3.6.1"
  }
 },
 "nbformat": 4,
 "nbformat_minor": 2
}
